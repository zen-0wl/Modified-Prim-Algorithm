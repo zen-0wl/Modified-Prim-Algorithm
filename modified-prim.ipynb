{
 "cells": [
  {
   "cell_type": "code",
   "execution_count": 4,
   "metadata": {},
   "outputs": [
    {
     "name": "stdout",
     "output_type": "stream",
     "text": [
      "Set of edges found in MST: {(0, 2, 130.0), (0, 3, 130.0), (0, 1, 130.0), (0, 4, 130.0)}\n"
     ]
    }
   ],
   "source": [
    "# Modified Prim algorithm Implementation\n",
    "import numpy as np\n",
    "\n",
    "def modified_prim(graph, w1, w2, w3, kc1, kc2, kc3, p1, p2, p3):\n",
    "    n = len(graph)\n",
    "    weights = np.zeros((n, n))\n",
    "    \n",
    "    # calculates the weights for each edge in the weights matrix using the formula \n",
    "    for i in range(n):\n",
    "        for j in range(n):\n",
    "            weights[i][j] = w1 * kc1 * p1 + w2 * kc2 * p2 + w3 * kc3 * p3\n",
    "            \n",
    "    mst = set()\n",
    "    used = set([0])\n",
    "    edges = []\n",
    "    \n",
    "    # edge sorting reversed (connects the edges with the highest value of weights to the nodes)\n",
    "    for i in range(n):\n",
    "        for j in range(n):\n",
    "            if i in used and j not in used:\n",
    "                edges.append((i, j, weights[i][j]))\n",
    "    \n",
    "    edges.sort(key=lambda x: x[2], reverse=True)\n",
    "    \n",
    "    for e in edges:\n",
    "        if e[1] not in used:\n",
    "            used.add(e[1])\n",
    "            mst.add(e)\n",
    "            for i in range(n):\n",
    "                if i not in used:\n",
    "                    edges.append((e[1], i, weights[e[1]][i]))\n",
    "                    \n",
    "    return mst\n",
    "\n",
    "# Example demonstration \n",
    "\n",
    "# graph below represents a 5x5 adjacency matrix \n",
    "graph = np.array([[0, 1, 1, 0, 0],\n",
    "                  [1, 0, 1, 1, 0],\n",
    "                  [1, 1, 0, 0, 1],\n",
    "                  [0, 1, 0, 0, 1],\n",
    "                  [0, 0, 1, 1, 0]])\n",
    "w1, w2, w3 = 1, 2, 3\n",
    "kc1, kc2, kc3 = 2, 3, 4\n",
    "p1, p2, p3 = 5, 6, 7\n",
    "\n",
    "# outputs the result i.e the set of edges in the minimum spanning tree\n",
    "result = modified_prim(graph, w1, w2, w3, kc1, kc2, kc3, p1, p2, p3)\n",
    "print(\"Set of edges found in MST: \" + str(result))"
   ]
  }
 ],
 "metadata": {
  "kernelspec": {
   "display_name": "Python 3",
   "language": "python",
   "name": "python3"
  },
  "language_info": {
   "codemirror_mode": {
    "name": "ipython",
    "version": 3
   },
   "file_extension": ".py",
   "mimetype": "text/x-python",
   "name": "python",
   "nbconvert_exporter": "python",
   "pygments_lexer": "ipython3",
   "version": "3.11.0"
  },
  "orig_nbformat": 4,
  "vscode": {
   "interpreter": {
    "hash": "ad7ae21f7c050dac50066c373f8c3ac8118ed5639e8d6726494cfc77eb7b1bb0"
   }
  }
 },
 "nbformat": 4,
 "nbformat_minor": 2
}

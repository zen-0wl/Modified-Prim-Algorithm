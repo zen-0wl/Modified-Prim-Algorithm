{
 "cells": [
  {
   "cell_type": "code",
   "execution_count": 1,
   "metadata": {},
   "outputs": [
    {
     "name": "stdout",
     "output_type": "stream",
     "text": [
      "Minimum Spanning Tree:  [None, 0, 1, 0, 1]\n"
     ]
    }
   ],
   "source": [
    "# Original Prim Algorithm Implementation\n",
    "def prim(graph, start):\n",
    "    n = len(graph) # graph shows a 2d list representation of the graph\n",
    "    minimum_spanning_tree = [None] * n\n",
    "    keys = [float('inf')] * n\n",
    "    keys[start] = 0 # start shows the starting vertex\n",
    "    mst_set = [False] * n\n",
    "\n",
    "    for i in range(n):\n",
    "        u = min_key(keys, mst_set)\n",
    "        mst_set[u] = True\n",
    "        for v in range(n):\n",
    "            if graph[u][v] > 0 and mst_set[v] == False and keys[v] > graph[u][v]:\n",
    "                keys[v] = graph[u][v]\n",
    "                minimum_spanning_tree[v] = u\n",
    "\n",
    "    return minimum_spanning_tree\n",
    "\n",
    "# min_key function finds vertex with minimum key value not yet included in mst \n",
    "def min_key(keys, mst_set):\n",
    "    minimum = float('inf')\n",
    "    for v in range(len(keys)):\n",
    "        if keys[v] < minimum and mst_set[v] == False:\n",
    "            minimum = keys[v]\n",
    "            min_index = v\n",
    "    return min_index\n",
    "\n",
    "graph = [[0, 2, 0, 6, 0],\n",
    "         [2, 0, 3, 8, 5],\n",
    "         [0, 3, 0, 0, 7],\n",
    "         [6, 8, 0, 0, 9],\n",
    "         [0, 5, 7, 9, 0]]\n",
    "\n",
    "minimum_spanning_tree = prim(graph, 0)\n",
    "print(\"Minimum Spanning Tree: \", minimum_spanning_tree)"
   ]
  }
 ],
 "metadata": {
  "kernelspec": {
   "display_name": "Python 3",
   "language": "python",
   "name": "python3"
  },
  "language_info": {
   "codemirror_mode": {
    "name": "ipython",
    "version": 3
   },
   "file_extension": ".py",
   "mimetype": "text/x-python",
   "name": "python",
   "nbconvert_exporter": "python",
   "pygments_lexer": "ipython3",
   "version": "3.11.0"
  },
  "orig_nbformat": 4,
  "vscode": {
   "interpreter": {
    "hash": "ad7ae21f7c050dac50066c373f8c3ac8118ed5639e8d6726494cfc77eb7b1bb0"
   }
  }
 },
 "nbformat": 4,
 "nbformat_minor": 2
}
